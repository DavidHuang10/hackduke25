{
 "cells": [
  {
   "cell_type": "code",
   "execution_count": 1,
   "metadata": {},
   "outputs": [],
   "source": [
    "from ai_utils import classify_website"
   ]
  },
  {
   "cell_type": "code",
   "execution_count": 2,
   "metadata": {},
   "outputs": [],
   "source": [
    "websites = [\"www.youtube.com\", \"www.google.com\", \"www.reddit.com\", \"www.duke.edu\"]\n",
    "responses = []\n",
    "for w in websites:\n",
    "    res = classify_website(w, True)\n",
    "    responses.append(res)"
   ]
  },
  {
   "cell_type": "code",
   "execution_count": 7,
   "metadata": {},
   "outputs": [
    {
     "name": "stdout",
     "output_type": "stream",
     "text": [
      "['-1\\nWatching videos, especially on a platform like YouTube, can easily distract users from focusing on their task.', '1\\nSearch engine with customizable settings to support focus and minimize distractions.', '-1\\nKnown to be extremely distracting due to endless scrolling and notifications.', '1\\nEducational content.']\n",
      "['-1', 'Watching videos, especially on a platform like YouTube, can easily distract users from focusing on their task.']\n"
     ]
    }
   ],
   "source": [
    "print(responses)\n",
    "print(responses[0].split('\\n'))"
   ]
  },
  {
   "cell_type": "code",
   "execution_count": 8,
   "metadata": {},
   "outputs": [
    {
     "name": "stdout",
     "output_type": "stream",
     "text": [
      "['-1\\nYouTube is a prominent video-sharing platform and a significant source of distractions.', '-1\\nThis website offers a search engine and various interactive services that can disrupt focus.', '-1\\nThis website is curated with entertaining content that can easily distract users.', '1\\nEducational institution websites typically provide resources that aid in focus and concentration.']\n"
     ]
    }
   ],
   "source": [
    "classes = []\n",
    "for w in websites:\n",
    "    res = classify_website(w, False)\n",
    "    classes.append(res)\n",
    "    \n",
    "print(classes)"
   ]
  }
 ],
 "metadata": {
  "kernelspec": {
   "display_name": "venv",
   "language": "python",
   "name": "python3"
  },
  "language_info": {
   "codemirror_mode": {
    "name": "ipython",
    "version": 3
   },
   "file_extension": ".py",
   "mimetype": "text/x-python",
   "name": "python",
   "nbconvert_exporter": "python",
   "pygments_lexer": "ipython3",
   "version": "3.12.4"
  }
 },
 "nbformat": 4,
 "nbformat_minor": 2
}
