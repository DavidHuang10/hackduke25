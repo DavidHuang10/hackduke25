{
 "cells": [
  {
   "cell_type": "code",
   "execution_count": 1,
   "metadata": {},
   "outputs": [],
   "source": [
    "from ai_utils import classify_website"
   ]
  },
  {
   "cell_type": "code",
   "execution_count": 2,
   "metadata": {},
   "outputs": [],
   "source": [
    "websites =  [\n",
    "    \"facebook.com\",\n",
    "    \"youtube.com\",\n",
    "    \"tiktok.com\",\n",
    "    \"reddit.com\",\n",
    "    \"twitter.com\",\n",
    "    \"instagram.com\",\n",
    "    \"netflix.com\",\n",
    "    \"twitch.tv\",\n",
    "    \"pinterest.com\",\n",
    "    \"snapchat.com\",\n",
    "    \"google.com\",\n",
    "    \"amazon.com\",\n",
    "    \"wikipedia.org\",\n",
    "    \"medium.com\",\n",
    "    \"linkedin.com\",\n",
    "    \"quora.com\",\n",
    "    \"discord.com\",\n",
    "    \"zoom.us\",\n",
    "    \"spotify.com\",\n",
    "    \"news.google.com\",\n",
    "    \"drive.google.com\",\n",
    "    \"trello.com\",\n",
    "    \"notion.so\",\n",
    "    \"evernote.com\",\n",
    "    \"duolingo.com\",\n",
    "    \"coursera.org\",\n",
    "    \"linkedin.com/learning\",\n",
    "    \"github.com\",\n",
    "    \"todo.microsoft.com\",\n",
    "    \"slack.com\"\n",
    "]\n",
    "responses = []\n",
    "for w in websites:\n",
    "    res = classify_website(w, True)\n",
    "    responses.append(res)"
   ]
  },
  {
   "cell_type": "code",
   "execution_count": 3,
   "metadata": {},
   "outputs": [
    {
     "name": "stdout",
     "output_type": "stream",
     "text": [
      "-1\n",
      "Facebook is a social media platform known for its highly engaging content, notifications, and social interactions, making it very likely to cause distractions during focused work.\n",
      "-1\n",
      "YouTube is primarily a video streaming platform known for entertainment content, which is highly likely to distract users from focused work.\n",
      "-1\n",
      "TikTok is a social media platform known for short-form video content. Its design and content are highly engaging and likely to cause significant distractions, making it unsuitable for focused work sessions.\n",
      "-1\n",
      "Reddit is a social media and content aggregation website with endless streams of user-generated content, discussions, and communities. Its design encourages exploration of diverse topics and prolonged engagement, making it highly likely to distract users from focused work.\n",
      "-1\n",
      "Twitter is a social media platform known for its real-time updates and social interactions, making it highly distracting during focused work sessions.\n",
      "-1\n",
      "Instagram is a social media platform primarily used for sharing photos and videos. Its content is designed to be visually engaging and encourages prolonged browsing, making it highly distracting during focused work sessions.\n",
      "-1\n",
      "Netflix is a video streaming service, primarily used for entertainment purposes such as watching movies and TV shows. This type of content is highly likely to be distracting during focused work sessions.\n",
      "Error: 429 Resource has been exhausted (e.g. check quota).\n",
      "Error: 429 Resource has been exhausted (e.g. check quota).\n",
      "-1\n",
      "Snapchat is a social media platform known for its ephemeral photo and video sharing, features designed for social interaction and entertainment, which are highly likely to be distracting during focused work.\n",
      "0\n",
      "Google is a search engine; its productivity depends on the user's search intent.\n",
      "Error: 429 Resource has been exhausted (e.g. check quota).\n",
      "Error: 429 Resource has been exhausted (e.g. check quota).\n",
      "-1\n",
      "Medium.com is a content platform with diverse articles and blog posts. While it may contain valuable information, its design encourages browsing and discovery of various topics, which can easily lead to distraction during focused work sessions.\n",
      "0\n",
      "LinkedIn can be used for professional networking and job searching, but it also contains a news feed and notifications that can be distracting during focused work sessions.\n",
      "-1\n",
      "Quora, while informational, is designed to be highly engaging with a constant stream of diverse questions and answers, making it easy to get sidetracked from focused work. Its notification system and suggested content further contribute to its potential for distraction.\n",
      "-1\n",
      "Discord is primarily a real-time communication platform with features like instant messaging, voice and video calls, and community servers. These features are inherently designed for immediate interaction and notifications, which are highly likely to disrupt a user's focus during work sessions.\n",
      "Error: 429 Resource has been exhausted (e.g. check quota).\n",
      "-1\n",
      "Spotify is primarily a music and podcast streaming service, which is designed for entertainment and discovery. It is likely to distract users from focused work due to music browsing and content exploration.\n",
      "Error: 429 Resource has been exhausted (e.g. check quota).\n",
      "Error: 429 Resource has been exhausted (e.g. check quota).\n",
      "Error: 429 Resource has been exhausted (e.g. check quota).\n",
      "1\n",
      "Productive website for note-taking and project management.\n",
      "1\n",
      "Evernote is a note-taking and organization tool, designed to enhance productivity and unlikely to cause distractions during focused work sessions.\n",
      "Error: 429 Resource has been exhausted (e.g. check quota).\n",
      "Error: 429 Resource has been exhausted (e.g. check quota).\n",
      "0\n",
      "LinkedIn Learning offers educational content, which can be productive for skill development. However, being on the LinkedIn platform can also lead to distractions from professional networking and social features.\n",
      "Error: 429 Resource has been exhausted (e.g. check quota).\n",
      "Error: 429 Resource has been exhausted (e.g. check quota).\n",
      "Error: 429 Resource has been exhausted (e.g. check quota).\n"
     ]
    }
   ],
   "source": [
    "for r in responses:\n",
    "    print(r)"
   ]
  },
  {
   "cell_type": "code",
   "execution_count": 4,
   "metadata": {},
   "outputs": [
    {
     "name": "stdout",
     "output_type": "stream",
     "text": [
      "['Error: 429 Resource has been exhausted (e.g. check quota).', 'Error: 429 Resource has been exhausted (e.g. check quota).', 'Error: 429 Resource has been exhausted (e.g. check quota).', '-1', 'Error: 429 Resource has been exhausted (e.g. check quota).', '-1', 'Error: 429 Resource has been exhausted (e.g. check quota).', 'Error: 429 Resource has been exhausted (e.g. check quota).', 'Error: 429 Resource has been exhausted (e.g. check quota).', '-1', 'Error: 429 Resource has been exhausted (e.g. check quota).', 'Error: 429 Resource has been exhausted (e.g. check quota).', 'Error: 429 Resource has been exhausted (e.g. check quota).', 'Error: 429 Resource has been exhausted (e.g. check quota).', 'Error: 429 Resource has been exhausted (e.g. check quota).', 'Error: 429 Resource has been exhausted (e.g. check quota).', 'Error: 429 Resource has been exhausted (e.g. check quota).', 'Error: 429 Resource has been exhausted (e.g. check quota).', 'Error: 429 Resource has been exhausted (e.g. check quota).', 'Error: 429 Resource has been exhausted (e.g. check quota).', 'Error: 429 Resource has been exhausted (e.g. check quota).', 'Error: 429 Resource has been exhausted (e.g. check quota).', 'Error: 429 Resource has been exhausted (e.g. check quota).', 'Error: 429 Resource has been exhausted (e.g. check quota).', 'Error: 429 Resource has been exhausted (e.g. check quota).', 'Error: 429 Resource has been exhausted (e.g. check quota).', 'Error: 429 Resource has been exhausted (e.g. check quota).', 'Error: 429 Resource has been exhausted (e.g. check quota).', 'Error: 429 Resource has been exhausted (e.g. check quota).', 'Error: 429 Resource has been exhausted (e.g. check quota).']\n"
     ]
    }
   ],
   "source": [
    "classes = []\n",
    "for w in websites:\n",
    "    res = classify_website(w, False)\n",
    "    classes.append(res)\n",
    "    \n",
    "print(classes)"
   ]
  }
 ],
 "metadata": {
  "kernelspec": {
   "display_name": "venv",
   "language": "python",
   "name": "python3"
  },
  "language_info": {
   "codemirror_mode": {
    "name": "ipython",
    "version": 3
   },
   "file_extension": ".py",
   "mimetype": "text/x-python",
   "name": "python",
   "nbconvert_exporter": "python",
   "pygments_lexer": "ipython3",
   "version": "3.12.4"
  }
 },
 "nbformat": 4,
 "nbformat_minor": 2
}
